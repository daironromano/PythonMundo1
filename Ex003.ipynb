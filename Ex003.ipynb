{
 "cells": [
  {
   "cell_type": "code",
   "execution_count": 5,
   "metadata": {},
   "outputs": [
    {
     "name": "stdout",
     "output_type": "stream",
     "text": [
      "a soma entre 5 e 4 é igual a 9\n",
      "a soma entre 5 e 4 é igual a 9\n"
     ]
    }
   ],
   "source": [
    "# Desafio 3\n",
    "v1 = int(input('Digite um valor: '))\n",
    "v2 = int(input('Digite outro valor: '))\n",
    "soma = v1 + v2\n",
    "print(f'a soma entre {v1} e {v2} é igual a {soma}')\n",
    "print('a soma entre {} e {} é igual a {}'.format(v1, v2, soma))"
   ]
  }
 ],
 "metadata": {
  "kernelspec": {
   "display_name": "base",
   "language": "python",
   "name": "python3"
  },
  "language_info": {
   "codemirror_mode": {
    "name": "ipython",
    "version": 3
   },
   "file_extension": ".py",
   "mimetype": "text/x-python",
   "name": "python",
   "nbconvert_exporter": "python",
   "pygments_lexer": "ipython3",
   "version": "3.12.7"
  }
 },
 "nbformat": 4,
 "nbformat_minor": 2
}
