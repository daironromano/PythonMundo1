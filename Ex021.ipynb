{
 "cells": [
  {
   "cell_type": "code",
   "execution_count": null,
   "metadata": {
    "vscode": {
     "languageId": "plaintext"
    }
   },
   "outputs": [],
   "source": [
    "#Exercício 21\n",
    "import pygame~\n",
    "\n",
    "pygame.init()\n",
    "pygame.mixer.music.load('nomemusica.mp3')\n",
    "pygame.mixer.music.play()\n",
    "input()\n",
    "pygame.event.wait()\n"
   ]
  }
 ],
 "metadata": {
  "language_info": {
   "name": "python"
  }
 },
 "nbformat": 4,
 "nbformat_minor": 2
}
