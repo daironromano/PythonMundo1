{
 "cells": [
  {
   "cell_type": "code",
   "execution_count": null,
   "metadata": {
    "vscode": {
     "languageId": "plaintext"
    }
   },
   "outputs": [],
   "source": [
    "#Desafio 7\n",
    "nota1 = float(input('1ª Avaliação: '))\n",
    "nota2 = float(input('2ª Avaliação: '))\n",
    "media = (nota1+nota2)/2\n",
    "print(f'1º Avaliação: {nota1}')\n",
    "print(f'2º Avaliação: {nota2}')\n",
    "print(f'Media: {media}')\n"
   ]
  }
 ],
 "metadata": {
  "language_info": {
   "name": "python"
  }
 },
 "nbformat": 4,
 "nbformat_minor": 2
}
