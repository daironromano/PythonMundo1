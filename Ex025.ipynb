{
 "cells": [
  {
   "cell_type": "code",
   "execution_count": null,
   "metadata": {
    "vscode": {
     "languageId": "plaintext"
    }
   },
   "outputs": [],
   "source": [
    "#Desafio 25\n",
    "nome = str(input('Digite seu nome: ')).strip()\n",
    "find = 'silva' in nome.lower()\n",
    "print(f'Seu nome tem \"Silva\": {find}')\n",
    "print('True = Tem \"Silva\"')\n",
    "print('False = Não tem \"Silva\"')\n"
   ]
  }
 ],
 "metadata": {
  "language_info": {
   "name": "python"
  }
 },
 "nbformat": 4,
 "nbformat_minor": 2
}
