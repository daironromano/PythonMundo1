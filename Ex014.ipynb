{
 "cells": [
  {
   "cell_type": "code",
   "execution_count": null,
   "metadata": {
    "vscode": {
     "languageId": "plaintext"
    }
   },
   "outputs": [],
   "source": [
    "#Desafio 14\n",
    "graus = float(input('Temperatura °C: '))\n",
    "conversao = ((9*graus)/5)+32\n",
    "print(f'Temperatura em graus: {graus}°C ')\n",
    "print(f'Convertido para fahrenheit: {conversao}°F')\n"
   ]
  }
 ],
 "metadata": {
  "language_info": {
   "name": "python"
  }
 },
 "nbformat": 4,
 "nbformat_minor": 2
}
