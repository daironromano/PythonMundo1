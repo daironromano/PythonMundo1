{
 "cells": [
  {
   "cell_type": "code",
   "execution_count": null,
   "metadata": {
    "vscode": {
     "languageId": "plaintext"
    }
   },
   "outputs": [],
   "source": [
    "#Exercício 16\n",
    "from math import trunc\n",
    "num = float(input('Digite um número: '))\n",
    "inteiro = trunc(num)\n",
    "print(f'O número {num} tem a parte inteira {inteiro}')"
   ]
  }
 ],
 "metadata": {
  "language_info": {
   "name": "python"
  }
 },
 "nbformat": 4,
 "nbformat_minor": 2
}
