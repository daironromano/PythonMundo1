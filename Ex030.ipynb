{
 "cells": [
  {
   "cell_type": "code",
   "execution_count": null,
   "metadata": {
    "vscode": {
     "languageId": "plaintext"
    }
   },
   "outputs": [],
   "source": [
    "#Desafio 30\n",
    "numero = int(input('Digite um número: '))\n",
    "resultado = numero % 2\n",
    "print(f'resto da divisão: {resultado}')\n",
    "if resultado == 1:\n",
    "    print(f'{numero} é um número IMPAR.')\n",
    "else:\n",
    "    print(f'{numero} é um número PAR.')"
   ]
  }
 ],
 "metadata": {
  "language_info": {
   "name": "python"
  }
 },
 "nbformat": 4,
 "nbformat_minor": 2
}
