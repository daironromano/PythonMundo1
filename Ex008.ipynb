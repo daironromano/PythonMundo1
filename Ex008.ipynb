{
 "cells": [
  {
   "cell_type": "code",
   "execution_count": null,
   "metadata": {
    "vscode": {
     "languageId": "plaintext"
    }
   },
   "outputs": [],
   "source": [
    "#Desafio 8\n",
    "metro = int(input('Converter (m²): '))\n",
    "centimetros = metro*100\n",
    "milimetro = metro*1000\n",
    "print(f'{metro}m em cm é: {centimetros}')\n",
    "print(f'{metro}m em mm é: {milimetro}')\n"
   ]
  }
 ],
 "metadata": {
  "language_info": {
   "name": "python"
  }
 },
 "nbformat": 4,
 "nbformat_minor": 2
}
