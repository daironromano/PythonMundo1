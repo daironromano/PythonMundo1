{
 "cells": [
  {
   "cell_type": "code",
   "execution_count": null,
   "metadata": {
    "vscode": {
     "languageId": "plaintext"
    }
   },
   "outputs": [],
   "source": [
    "#Desafio 24\n",
    "cidade = str(input('Digite uma cidade: ')).strip()\n",
    "# lista_cidade = cidade.split()[0].upper() #MODO 1\n",
    "santo = cidade[:5].upper() == \"SANTO\" #MODO 2\n",
    "print(f'A cidade começa com \"Santo\": {santo}')\n"
   ]
  }
 ],
 "metadata": {
  "language_info": {
   "name": "python"
  }
 },
 "nbformat": 4,
 "nbformat_minor": 2
}
