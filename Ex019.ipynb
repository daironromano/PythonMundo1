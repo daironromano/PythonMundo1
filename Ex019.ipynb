{
 "cells": [
  {
   "cell_type": "code",
   "execution_count": null,
   "metadata": {
    "vscode": {
     "languageId": "plaintext"
    }
   },
   "outputs": [],
   "source": [
    "#Exercício 19\n",
    "import random\n",
    "nome1 = str(input('Primeiro Aluno(a):'))\n",
    "nome2 = str(input('Segundo Aluno(a):'))\n",
    "nome3 = str(input('Terceiro Aluno(a):'))\n",
    "nome4 = str(input('Quarto Aluno(a):'))\n",
    "lista = [nome1, nome2, nome3, nome4]\n",
    "nome_sorteado = random.choice(lista)\n",
    "print(f'O(A) Aluno(a) sorteado(a) foi: {nome_sorteado}')"
   ]
  }
 ],
 "metadata": {
  "language_info": {
   "name": "python"
  }
 },
 "nbformat": 4,
 "nbformat_minor": 2
}
