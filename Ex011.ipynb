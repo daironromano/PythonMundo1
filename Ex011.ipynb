{
 "cells": [
  {
   "cell_type": "code",
   "execution_count": null,
   "metadata": {
    "vscode": {
     "languageId": "plaintext"
    }
   },
   "outputs": [],
   "source": [
    "#Desafio 11\n",
    "largura = int(input('Qual a largura: '))\n",
    "altura = int(input('Qual a altura: '))\n",
    "area = largura*altura\n",
    "tinta = area/2\n",
    "print(f'Dimensão da parede {largura}x{altura}')\n",
    "print(f'Área: {area}m²')\n",
    "print(f'Você precisa de {tinta}L de tinta')\n"
   ]
  }
 ],
 "metadata": {
  "language_info": {
   "name": "python"
  }
 },
 "nbformat": 4,
 "nbformat_minor": 2
}
