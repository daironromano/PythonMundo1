{
 "cells": [
  {
   "cell_type": "code",
   "execution_count": null,
   "metadata": {
    "vscode": {
     "languageId": "plaintext"
    }
   },
   "outputs": [],
   "source": [
    "#Desafio 34\n",
    "salario = float(input('Digite seu salário: R$ '))\n",
    "if salario > 1250.00:\n",
    "    porcento = (salario*10)/100\n",
    "    aumento = porcento+salario\n",
    "    print(f'Aumento de 10 porcento de {salario}')\n",
    "    print(f'Salário atual: R$ {aumento}')\n",
    "else:\n",
    "    porcento = (salario*15)/100\n",
    "    aumento = porcento+salario\n",
    "    print(f'Aumento de 15 por cento de {salario}')\n",
    "    print(f'Salário atual: R$ {aumento}')\n",
    "\n"
   ]
  }
 ],
 "metadata": {
  "language_info": {
   "name": "python"
  }
 },
 "nbformat": 4,
 "nbformat_minor": 2
}
