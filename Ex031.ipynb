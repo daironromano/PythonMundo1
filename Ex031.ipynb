{
 "cells": [
  {
   "cell_type": "code",
   "execution_count": null,
   "metadata": {
    "vscode": {
     "languageId": "plaintext"
    }
   },
   "outputs": [],
   "source": [
    "#Desafio 31\n",
    "distancia = float(input('Qual a distância (Km) da sua viagem: '))\n",
    "viagem_normal = distancia*0.50\n",
    "viagem_promo = distancia*0.45\n",
    "if distancia <= 200:\n",
    "    print(f'Você viajará {distancia}Km.')\n",
    "    print(f'Sua viagem custará: R$ {viagem_normal:.2f}.')\n",
    "else:\n",
    "    print(f'Você viajará {distancia}Km.')\n",
    "    print(f'Sua viagem custará: R$ {viagem_promo:.2f}.')"
   ]
  }
 ],
 "metadata": {
  "language_info": {
   "name": "python"
  }
 },
 "nbformat": 4,
 "nbformat_minor": 2
}
