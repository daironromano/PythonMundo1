{
 "cells": [
  {
   "cell_type": "code",
   "execution_count": 1,
   "metadata": {},
   "outputs": [
    {
     "name": "stdout",
     "output_type": "stream",
     "text": [
      "Dobro: 10\n",
      "Triplo: 15\n",
      "Raiz: 2.24\n"
     ]
    }
   ],
   "source": [
    "#Desafio 6\n",
    "num = int(input('Digite um valor:'))\n",
    "dobro = num*2\n",
    "triplo = num*3\n",
    "raiz = num**(1/2)\n",
    "print(f'Dobro: {dobro}')\n",
    "print(f'Triplo: {triplo}')\n",
    "print(f'Raiz: {raiz:.2f}')"
   ]
  }
 ],
 "metadata": {
  "kernelspec": {
   "display_name": "Python 3",
   "language": "python",
   "name": "python3"
  },
  "language_info": {
   "codemirror_mode": {
    "name": "ipython",
    "version": 3
   },
   "file_extension": ".py",
   "mimetype": "text/x-python",
   "name": "python",
   "nbconvert_exporter": "python",
   "pygments_lexer": "ipython3",
   "version": "3.11.9"
  }
 },
 "nbformat": 4,
 "nbformat_minor": 2
}
