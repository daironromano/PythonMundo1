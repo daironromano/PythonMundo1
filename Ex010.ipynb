{
 "cells": [
  {
   "cell_type": "code",
   "execution_count": null,
   "metadata": {
    "vscode": {
     "languageId": "plaintext"
    }
   },
   "outputs": [],
   "source": [
    "#Desafio 10\n",
    "dinheiro = float(input('Quanto você tem na carteira R$: '))\n",
    "dolares = dinheiro/5.763\n",
    "print(f'Você tem R$ {dinheiro:.2f} Reais')\n",
    "print(f'Pode comprar U$ {dolares:.2f} Dolares')"
   ]
  }
 ],
 "metadata": {
  "language_info": {
   "name": "python"
  }
 },
 "nbformat": 4,
 "nbformat_minor": 2
}
