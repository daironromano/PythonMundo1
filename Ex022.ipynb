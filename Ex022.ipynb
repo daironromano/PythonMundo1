{
 "cells": [
  {
   "cell_type": "code",
   "execution_count": null,
   "metadata": {
    "vscode": {
     "languageId": "plaintext"
    }
   },
   "outputs": [],
   "source": [
    "#Desafio 22\n",
    "nome = str(input(\"Digite seu nome: \")).strip() #Tirando os espaços antes e depois\n",
    "maiscula = nome.upper()\n",
    "minusculo = nome.lower()\n",
    "qnts_letras = len(nome) - nome.count(' ')\n",
    "primeiro = len(nome.split()[0])\n",
    "print(f'Maisculo: {maiscula}')\n",
    "print(f'Minusculo: {minusculo}')\n",
    "print(f'Letras total: {qnts_letras}')\n",
    "print(f'Letras Primeiro: {primeiro}')"
   ]
  }
 ],
 "metadata": {
  "language_info": {
   "name": "python"
  }
 },
 "nbformat": 4,
 "nbformat_minor": 2
}
