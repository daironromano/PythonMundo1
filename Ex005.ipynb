{
 "cells": [
  {
   "cell_type": "code",
   "execution_count": 1,
   "metadata": {},
   "outputs": [
    {
     "name": "stdout",
     "output_type": "stream",
     "text": [
      " O número inteiro: 99\n",
      " O sucessor: 100\n",
      " O antecessor: 98\n"
     ]
    }
   ],
   "source": [
    "#Desafio 5\n",
    "inteiro = int(input('Digite um número: '))\n",
    "sucessor = inteiro + 1\n",
    "antecessor = inteiro - 1\n",
    "print(f\" O número inteiro: {inteiro}\\n O sucessor: {sucessor}\\n O antecessor: {antecessor}\")\n"
   ]
  }
 ],
 "metadata": {
  "kernelspec": {
   "display_name": "base",
   "language": "python",
   "name": "python3"
  },
  "language_info": {
   "codemirror_mode": {
    "name": "ipython",
    "version": 3
   },
   "file_extension": ".py",
   "mimetype": "text/x-python",
   "name": "python",
   "nbconvert_exporter": "python",
   "pygments_lexer": "ipython3",
   "version": "3.12.7"
  }
 },
 "nbformat": 4,
 "nbformat_minor": 2
}
