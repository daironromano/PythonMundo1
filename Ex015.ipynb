{
 "cells": [
  {
   "cell_type": "code",
   "execution_count": null,
   "metadata": {
    "vscode": {
     "languageId": "plaintext"
    }
   },
   "outputs": [],
   "source": [
    "#Desafio 15\n",
    "dias = int(input('Quantos dias alugou: '))\n",
    "km = float(input('Quantos km rodou: '))\n",
    "pagar = (dias*60) + (km*0.15)\n",
    "print(f'Alugou por {dias} dias')\n",
    "print(f'Rodou {km} km')\n",
    "print(f'Pagará R${pagar} ')"
   ]
  }
 ],
 "metadata": {
  "language_info": {
   "name": "python"
  }
 },
 "nbformat": 4,
 "nbformat_minor": 2
}
