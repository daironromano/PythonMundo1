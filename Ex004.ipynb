{
 "cells": [
  {
   "cell_type": "code",
   "execution_count": 5,
   "metadata": {},
   "outputs": [
    {
     "name": "stdout",
     "output_type": "stream",
     "text": [
      "Alfabetico: False\n",
      "AlfaNumerico: True\n",
      "Decimal: True\n",
      "Maiusculo: False\n",
      "Numerico: True\n"
     ]
    }
   ],
   "source": [
    "#Desafio 4\n",
    "algo = input('digite algo')\n",
    "valor1 = algo.isalpha()\n",
    "valor2 = algo.isalnum()\n",
    "valor3 = algo.isdecimal()\n",
    "valor4 = algo.isupper()\n",
    "valor5 = algo.isnumeric()\n",
    "print(f'Alfabetico: {valor1}')\n",
    "print(f'AlfaNumerico: {valor2}')\n",
    "print(f'Decimal: {valor3}')\n",
    "print(f'Maiusculo: {valor4}')\n",
    "print(f'Numerico: {valor5}')"
   ]
  }
 ],
 "metadata": {
  "kernelspec": {
   "display_name": "base",
   "language": "python",
   "name": "python3"
  },
  "language_info": {
   "codemirror_mode": {
    "name": "ipython",
    "version": 3
   },
   "file_extension": ".py",
   "mimetype": "text/x-python",
   "name": "python",
   "nbconvert_exporter": "python",
   "pygments_lexer": "ipython3",
   "version": "3.12.7"
  }
 },
 "nbformat": 4,
 "nbformat_minor": 2
}
