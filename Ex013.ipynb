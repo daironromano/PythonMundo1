{
 "cells": [
  {
   "cell_type": "code",
   "execution_count": null,
   "metadata": {
    "vscode": {
     "languageId": "plaintext"
    }
   },
   "outputs": [],
   "source": [
    "#Desasfio 13\n",
    "salario = float(input('Salario atual: '))\n",
    "porcentagem = (salario*15)/100\n",
    "aumento = salario + porcentagem\n",
    "print(f'Salario sem reajuste de 15%: R$ {salario:.2f}')\n",
    "print(f'Salario com reajuste de 15%: R$ {aumento:.2f}')"
   ]
  }
 ],
 "metadata": {
  "language_info": {
   "name": "python"
  }
 },
 "nbformat": 4,
 "nbformat_minor": 2
}
