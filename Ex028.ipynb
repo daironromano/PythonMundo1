{
 "cells": [
  {
   "cell_type": "code",
   "execution_count": null,
   "metadata": {
    "vscode": {
     "languageId": "plaintext"
    }
   },
   "outputs": [],
   "source": [
    "#Desafio 28  \n",
    "from random import randint\n",
    "\n",
    "#Computador \"pensando em um número\"\n",
    "computador = randint(0,5)\n",
    "#Usuário tentando adivinhar\n",
    "usuario = int(input('Em que número o computador pensou: '))\n",
    "print (f'Número escolhido pelo usuário: {usuario}\\n')\n",
    "if computador == usuario:\n",
    "    print('Parabéns, você acertou o número')\n",
    "    print(f'Eu pensei no número {computador} mesmo!')\n",
    "else:\n",
    "    print(f'O número que eu pensei foi: {computador}')\n",
    "    print('Você errou! Tente Novamente!')"
   ]
  }
 ],
 "metadata": {
  "language_info": {
   "name": "python"
  }
 },
 "nbformat": 4,
 "nbformat_minor": 2
}
