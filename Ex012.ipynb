{
 "cells": [
  {
   "cell_type": "code",
   "execution_count": null,
   "metadata": {
    "vscode": {
     "languageId": "plaintext"
    }
   },
   "outputs": [],
   "source": [
    "#Desafio 12\n",
    "preco = float(input('Preço atual: '))\n",
    "porcentagem = (preco*5)/100\n",
    "desconto = preco - porcentagem\n",
    "print(f'Preço sem desconto: {preco:.2f}')\n",
    "print(f'Preço com desconto: {desconto:.2f}')"
   ]
  }
 ],
 "metadata": {
  "language_info": {
   "name": "python"
  }
 },
 "nbformat": 4,
 "nbformat_minor": 2
}
