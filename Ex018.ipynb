{
 "cells": [
  {
   "cell_type": "code",
   "execution_count": null,
   "metadata": {
    "vscode": {
     "languageId": "plaintext"
    }
   },
   "outputs": [],
   "source": [
    "#Exercício 18\n",
    "import math\n",
    "angulo = float(input('Insira um ângulo: '))\n",
    "seno = math.sin(math.radians(angulo))\n",
    "cosseno = math.cos(math.radians(angulo))\n",
    "tangente = math.tan(math.radians(angulo))\n",
    "print(f'Ângulo: {angulo}°')\n",
    "print(f'Seno: {seno:.2f}°')\n",
    "print(f'Cosseno: {cosseno:.2f}°')\n",
    "print(f'Tangente: {tangente:.2f}°')"
   ]
  }
 ],
 "metadata": {
  "language_info": {
   "name": "python"
  }
 },
 "nbformat": 4,
 "nbformat_minor": 2
}
