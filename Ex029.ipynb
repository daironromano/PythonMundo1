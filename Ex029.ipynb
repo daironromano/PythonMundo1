{
 "cells": [
  {
   "cell_type": "code",
   "execution_count": null,
   "metadata": {
    "vscode": {
     "languageId": "plaintext"
    }
   },
   "outputs": [],
   "source": [
    "#Desafio 29\n",
    "velocidade = int(input('Qual a sua velocidade: '))\n",
    "if velocidade > 80:\n",
    "    multa = (velocidade-80)*7\n",
    "    print(f'MULTADO! Você excedeu o limite de velocidade! \\nFoi multado em R$ {multa}')\n",
    "else:\n",
    "    print('Você está dentro do limite permitido!')"
   ]
  }
 ],
 "metadata": {
  "language_info": {
   "name": "python"
  }
 },
 "nbformat": 4,
 "nbformat_minor": 2
}
