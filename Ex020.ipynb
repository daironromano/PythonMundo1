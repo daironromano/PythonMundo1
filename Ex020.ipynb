{
 "cells": [
  {
   "cell_type": "code",
   "execution_count": null,
   "metadata": {
    "vscode": {
     "languageId": "plaintext"
    }
   },
   "outputs": [],
   "source": [
    "#Exercício 20\n",
    "from random import shuffle\n",
    "n1 = str(input('Primeiro: '))\n",
    "n2 = str(input('Segundo: '))\n",
    "n3 = str(input('Terceiro: '))\n",
    "n4 = str(input('Quarto: ')) \n",
    "sorteio = [n1, n2, n3, n4]\n",
    "shuffle(sorteio)\n",
    "print('A ordem da apresentação será:')\n",
    "print(sorteio)"
   ]
  }
 ],
 "metadata": {
  "language_info": {
   "name": "python"
  }
 },
 "nbformat": 4,
 "nbformat_minor": 2
}
