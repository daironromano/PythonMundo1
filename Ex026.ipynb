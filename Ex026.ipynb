{
 "cells": [
  {
   "cell_type": "code",
   "execution_count": null,
   "metadata": {
    "vscode": {
     "languageId": "plaintext"
    }
   },
   "outputs": [],
   "source": [
    "#Desafio 26\n",
    "frase = str(input('Digite uma frase: ')).strip().upper()\n",
    "vezes = frase.count('A')\n",
    "primeira = frase.find('A') + 1\n",
    "ultimo = frase.rfind('A') + 1\n",
    "print(f'Quantas vezes aparece a letra \"A\": {vezes}')\n",
    "print(f'Em que posição aparece a primeira vez: {primeira}')\n",
    "print(f'A última letra \"A\" aparece na posição: {ultimo}')"
   ]
  }
 ],
 "metadata": {
  "language_info": {
   "name": "python"
  }
 },
 "nbformat": 4,
 "nbformat_minor": 2
}
