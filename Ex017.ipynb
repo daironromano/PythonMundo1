{
 "cells": [
  {
   "cell_type": "code",
   "execution_count": null,
   "metadata": {
    "vscode": {
     "languageId": "plaintext"
    }
   },
   "outputs": [],
   "source": [
    "#Exercício 17\n",
    "from math import hypot\n",
    "cateto_oposto = float(input('Cateto Oposto: '))\n",
    "cateto_adjacente = float(input('Cateto Adjacente: '))\n",
    "hipotenusa = hypot(cateto_oposto, cateto_adjacente)\n",
    "print(f'A hipotenusa de {cateto_oposto} e {cateto_adjacente} é: {hipotenusa:.2f}')\n"
   ]
  }
 ],
 "metadata": {
  "language_info": {
   "name": "python"
  }
 },
 "nbformat": 4,
 "nbformat_minor": 2
}
