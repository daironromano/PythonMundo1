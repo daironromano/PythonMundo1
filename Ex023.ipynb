{
 "cells": [
  {
   "cell_type": "code",
   "execution_count": null,
   "metadata": {
    "vscode": {
     "languageId": "plaintext"
    }
   },
   "outputs": [],
   "source": [
    "#Desafio 23\n",
    "numero = int(input('Digite um número: '))\n",
    "unidade = numero // 1 % 10\n",
    "dezena = numero // 10 % 10\n",
    "centena = numero // 100 & 10\n",
    "milhar = numero // 1000 & 10\n",
    "print(f'Unidade: {unidade}')\n",
    "print(f'Dezena: {dezena}')\n",
    "print(f'Centena: {centena}')\n",
    "print(f'Milhar: {milhar}')"
   ]
  }
 ],
 "metadata": {
  "language_info": {
   "name": "python"
  }
 },
 "nbformat": 4,
 "nbformat_minor": 2
}
