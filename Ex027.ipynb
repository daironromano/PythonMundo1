{
 "cells": [
  {
   "cell_type": "code",
   "execution_count": null,
   "metadata": {
    "vscode": {
     "languageId": "plaintext"
    }
   },
   "outputs": [],
   "source": [
    "#Desafio 27\n",
    "nome = str(input('Digite seu nome: ')).strip()\n",
    "lista_nome = nome.split()\n",
    "primeiro = lista_nome[0]\n",
    "ultimo = lista_nome[-1]\n",
    "print(f'Nome digitado: {len}')\n",
    "print(f'Primeiro nome: {primeiro}')\n",
    "print(f'Último nome: {ultimo}')"
   ]
  }
 ],
 "metadata": {
  "language_info": {
   "name": "python"
  }
 },
 "nbformat": 4,
 "nbformat_minor": 2
}
