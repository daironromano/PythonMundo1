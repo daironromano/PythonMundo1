{
 "cells": [
  {
   "cell_type": "code",
   "execution_count": null,
   "metadata": {
    "vscode": {
     "languageId": "plaintext"
    }
   },
   "outputs": [],
   "source": [
    "#Desafio 9\n",
    "numero = int(input('Digite um número para saber a tabuada: '))\n",
    "a = numero*1\n",
    "b = numero*2\n",
    "c = numero*3\n",
    "d = numero*4\n",
    "e = numero*5\n",
    "f = numero*6\n",
    "g = numero*7\n",
    "h = numero*8\n",
    "i = numero*9\n",
    "j = numero*10\n",
    "print(f'A tabudada do {numero} é: ')\n",
    "print('-'*20)\n",
    "print(f'{numero}x1 = {a}')\n",
    "print(f'{numero}x2 = {b}')\n",
    "print(f'{numero}x3 = {c}')\n",
    "print(f'{numero}x4 = {d}')\n",
    "print(f'{numero}x5 = {e}')\n",
    "print(f'{numero}x6 = {f}')\n",
    "print(f'{numero}x7 = {g}')\n",
    "print(f'{numero}x8 = {h}')\n",
    "print(f'{numero}x9 = {i}')\n",
    "print(f'{numero}x10 = {j}')\n",
    "print('-'*20)\n"
   ]
  }
 ],
 "metadata": {
  "language_info": {
   "name": "python"
  }
 },
 "nbformat": 4,
 "nbformat_minor": 2
}
