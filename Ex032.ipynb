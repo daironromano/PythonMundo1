{
 "cells": [
  {
   "cell_type": "code",
   "execution_count": null,
   "metadata": {
    "vscode": {
     "languageId": "plaintext"
    }
   },
   "outputs": [],
   "source": [
    "#Desafio 32\n",
    "from datetime import date\n",
    "print('Digite \"0\" para utilizaro ano atual.')\n",
    "ano = int(input('Digite um ano: '))\n",
    "#Importanto ano atual\n",
    "if ano == 0:\n",
    "    ano = date.today().year\n",
    "#Decifrando se é bissexto ou não\n",
    "if ano % 4 == 0 and ano % 100 != 0 or ano % 400 == 0:\n",
    "    print(f'O ano de {ano} atual é BISSEXTO')\n",
    "else:\n",
    "    print(f'O ano de {ano} NÃO É bissexto!')\n"
   ]
  }
 ],
 "metadata": {
  "language_info": {
   "name": "python"
  }
 },
 "nbformat": 4,
 "nbformat_minor": 2
}
