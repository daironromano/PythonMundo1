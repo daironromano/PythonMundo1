{
 "cells": [
  {
   "cell_type": "code",
   "execution_count": 2,
   "metadata": {},
   "outputs": [
    {
     "name": "stdout",
     "output_type": "stream",
     "text": [
      "Olá, Dairon, prazer em te conhecer!\n"
     ]
    }
   ],
   "source": [
    "#Desafio 2\n",
    "#Entrada de dados\n",
    "nome = input('Qual é seu nome?')\n",
    "#Mostrando dados\n",
    "print(f'Olá, {nome}, prazer em te conhecer!')"
   ]
  }
 ],
 "metadata": {
  "kernelspec": {
   "display_name": "base",
   "language": "python",
   "name": "python3"
  },
  "language_info": {
   "codemirror_mode": {
    "name": "ipython",
    "version": 3
   },
   "file_extension": ".py",
   "mimetype": "text/x-python",
   "name": "python",
   "nbconvert_exporter": "python",
   "pygments_lexer": "ipython3",
   "version": "3.12.7"
  }
 },
 "nbformat": 4,
 "nbformat_minor": 2
}
